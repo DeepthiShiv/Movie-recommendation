{
  "nbformat": 4,
  "nbformat_minor": 0,
  "metadata": {
    "colab": {
      "provenance": []
    },
    "kernelspec": {
      "name": "python3",
      "display_name": "Python 3"
    },
    "language_info": {
      "name": "python"
    }
  },
  "cells": [
    {
      "cell_type": "code",
      "execution_count": null,
      "metadata": {
        "colab": {
          "base_uri": "https://localhost:8080/"
        },
        "id": "7BzLK17dLYYt",
        "outputId": "65e12be4-8ced-4c3f-c72e-b1544c22ceec"
      },
      "outputs": [
        {
          "output_type": "stream",
          "name": "stdout",
          "text": [
            "Recommended Movies:\n",
            "350                    Dev.D\n",
            "68                  Oldeuboi\n",
            "179         The Great Escape\n",
            "868    Rebel Without a Cause\n",
            "253         Fa yeung nin wah\n",
            "197           Koe no katachi\n",
            "683       The Breakfast Club\n",
            "801                Happiness\n",
            "368            Casino Royale\n",
            "699          Midnight Cowboy\n",
            "Name: Series_Title, dtype: object\n"
          ]
        }
      ],
      "source": [
        "import pandas as pd\n",
        "from sklearn.feature_extraction.text import TfidfVectorizer\n",
        "from sklearn.metrics.pairwise import cosine_similarity\n",
        "\n",
        "file_path = 'imdb_top_1000.csv'\n",
        "movies_data = pd.read_csv(file_path)\n",
        "\n",
        "movies_data['Genre'] = movies_data['Genre'].fillna('').str.replace(',', ' ')\n",
        "movies_data['Overview'] = movies_data['Overview'].fillna('')\n",
        "\n",
        "movies_data['Content'] = movies_data['Genre'] + ' ' + movies_data['Overview']\n",
        "\n",
        "tfidf = TfidfVectorizer(stop_words='english')\n",
        "tfidf_matrix = tfidf.fit_transform(movies_data['Content'])\n",
        "\n",
        "cosine_sim = cosine_similarity(tfidf_matrix, tfidf_matrix)\n",
        "\n",
        "def get_recommendations(title, cosine_sim=cosine_sim):\n",
        "    idx = movies_data[movies_data['Series_Title'] == title].index[0]\n",
        "\n",
        "    sim_scores = list(enumerate(cosine_sim[idx]))\n",
        "\n",
        "    sim_scores = sorted(sim_scores, key=lambda x: x[1], reverse=True)\n",
        "\n",
        "    sim_scores = sim_scores[1:11]\n",
        "\n",
        "    movie_indices = [i[0] for i in sim_scores]\n",
        "\n",
        "    return movies_data['Series_Title'].iloc[movie_indices]\n",
        "\n",
        "recommended_movies = get_recommendations('The Shawshank Redemption')\n",
        "print(\"Recommended Movies:\")\n",
        "print(recommended_movies)\n"
      ]
    }
  ]
}